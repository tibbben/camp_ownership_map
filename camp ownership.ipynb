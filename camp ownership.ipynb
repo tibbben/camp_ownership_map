{
 "cells": [
  {
   "cell_type": "markdown",
   "id": "8eb84820",
   "metadata": {},
   "source": [
    "## for LAND"
   ]
  },
  {
   "cell_type": "code",
   "execution_count": 1,
   "id": "2c5b3bf4",
   "metadata": {},
   "outputs": [],
   "source": [
    "import pandas as pd"
   ]
  },
  {
   "cell_type": "code",
   "execution_count": 2,
   "id": "0d49f6e3",
   "metadata": {},
   "outputs": [],
   "source": [
    "parcels = pd.read_csv('LAND_CustomParcels_Final_2021_Tim.csv')"
   ]
  },
  {
   "cell_type": "code",
   "execution_count": 3,
   "id": "7bd4b053",
   "metadata": {},
   "outputs": [],
   "source": [
    "parcels['test_ownership'] = ''\n",
    "parcels['test_categories'] = ''"
   ]
  },
  {
   "cell_type": "code",
   "execution_count": null,
   "id": "549e3f41",
   "metadata": {},
   "outputs": [],
   "source": [
    "list(parcels)"
   ]
  },
  {
   "cell_type": "code",
   "execution_count": 4,
   "id": "4b63c66b",
   "metadata": {},
   "outputs": [],
   "source": [
    "categories = pd.read_csv('OwnershipMap.csv')"
   ]
  },
  {
   "cell_type": "code",
   "execution_count": 5,
   "id": "24fb440b",
   "metadata": {},
   "outputs": [
    {
     "name": "stdout",
     "output_type": "stream",
     "text": [
      "['CHURCH', '&&CHURCH', 'IGLESIA', '&&IGLESIA', 'MINISTERIO', '&&MINISTERIO', '7TH DAY', '&&7TH DAY', 'EGLISE', '&&EGLISE', 'BIBLE', '&&BIBLE', 'ST JOHN', 'CAMP FREEDOM INC', 'TABERNACLE', '&&TABERNACLE', 'BISHOP', '&&BISHOP', 'REVEREND', '&&REVEREND', 'ISLAM', '&&ISLAM', 'TEMPLE', '&&TEMPLE', 'JESUS', '&&JESUS', 'CHAPEL', '&&CHAPEL', 'CER LLC', 'COMMUNITY BLDR & CAPITAL DEV INC', 'LUTHERAN', '&&LUTHERAN', 'NAZARENE', '&&NAZARENE', 'SEVENTH DAY', '&&SEVENTH DAY', 'CHRISTIAN', '&&CHRISTIAN', 'FELLOWSHIP', '&&FELLOWSHIP', 'BAPTIST!HEALTH', '&&BAPTIST!HEALTH', 'JEWISH', '&&JEWISH', 'UPPER ROOM ASSEMBLY INC', 'METHODIST', '&&METHODIST', 'PEDRO SANTANA & MOISES OBREGON&&GUSTAVO FONSECA', 'ADVENTIST', '&&ADVENTIST', 'MT CALVARY COMMUNITY CH', 'MINISTRIES', '&&MINISTRIES', 'PENTECOST', '&&PENTECOST', 'OF FAITH', 'PRESBYTERIAN', '&&PRESBYTERIAN', 'RIVER AND 16TH PROPERTY LLC', 'PRESB CH', '&&PRESB CH', 'WORSHIP', '&&WORSHIP', 'ASSEMBLY OF GOD', '&&ASSEMBLY OF GOD', 'BUDDH', '&&BUDDH', 'AFR METH EPIS', 'APOSTOLIC', 'EVANGELIST', 'PENCOSTAL', 'DIOCESE', '&&DIOCESE', 'BAPT CH', '&&BAPT CH', 'OF CHRIST', '&&OF CHRIST', 'GREEK ORT', '&&GREEK ORT', 'OF GOD', '&&OF GOD', 'IN CHRIST', '&&IN CHRIST', 'REVIVAL', 'MISSIONARY', 'GOSPEL', '&&GOSPEL', '&&MISSIONARY', 'CONGREGATION', '&&CONGREGATION', 'MENNONITE', 'HEBREW', 'BAP CH', 'EVANGELICAL', '&&EVANGELICAL', 'FOR CHRIST', '&&FOR CHRIST', 'JEHOVAH', '&&JEHOVAH', 'CROWN OF THORNS', 'RESURRECCION', 'EVANGELICA', 'SEVENTH-DAY', 'THE LORDS HOUSE', 'EVANGELIQUE', 'NEW REVELATION', '7-DAY ADV', 'MUSLIM', 'MINISTRY', '7-DAY ADV', 'UNITED METH CH', 'LEHRMAN COMMUNITY DAY SCHOOL', 'LOUIS M ALEXIS & VEONEL GUERRIER & KELLY LEVASSEUR']\n"
     ]
    }
   ],
   "source": [
    "for index, category in categories.iloc[29:30].iterrows():\n",
    "    true_owner = category['true_owner[123]'].split('|')\n",
    "    print(true_owner)"
   ]
  },
  {
   "cell_type": "code",
   "execution_count": null,
   "id": "55d232db",
   "metadata": {},
   "outputs": [],
   "source": [
    "b = ((parcels['true_owner1'].str.contains('FLORIDA CITY') & \\\n",
    "    ~parcels['true_owner1'].str.contains('AGENCY',na=False) & \\\n",
    "    ~parcels['true_owner1'].str.contains('COMMUNITY',na=False) & \\\n",
    "    ~parcels['true_owner1'].str.contains('AGCY',na=False)) & \\\n",
    "    ~parcels['true_owner2'].str.contains('REDEVELOPMENT',na=False) & \\\n",
    "    ~parcels['true_owner2'].str.contains('REDV',na=False))"
   ]
  },
  {
   "cell_type": "code",
   "execution_count": 13,
   "id": "1b21e532",
   "metadata": {},
   "outputs": [
    {
     "name": "stdout",
     "output_type": "stream",
     "text": [
      "Baptist Health\n",
      "original 7 test 7\n",
      "Barry University\n",
      "original 15 test 15\n",
      "City of Aventura\n",
      "original 1 test 1\n",
      "City of Coral Gables\n",
      "original 40 test 40\n",
      "City of Florida City\n",
      "original 12 test 0\n",
      "City of Hialeah\n",
      "original 12 test 12\n",
      "City of Hialeah Gardens\n",
      "original 2 test 2\n",
      "City of Homestead\n",
      "original 47 test 21\n",
      "City of Miami\n",
      "original 120 test 39\n",
      "City of Miami Beach\n",
      "original 110 test 110\n",
      "City of Miami Gardens\n",
      "original 17 test 17\n",
      "City of Miami Springs\n",
      "original 13 test 13\n",
      "City of North Bay Village\n",
      "original 2 test 2\n",
      "City of North Miami\n",
      "original 36 test 36\n",
      "City of North Miami Beach\n",
      "original 19 test 19\n",
      "City of Opa Locka\n",
      "original 30 test 30\n",
      "City of South Miami\n",
      "original 1 test 1\n",
      "City of Sunny Isles Beach\n",
      "original 3 test 3\n",
      "City of West Miami\n",
      "original 3 test 3\n",
      "Community Redevelopment Agency\n",
      "original 157 test 157\n",
      "Expressway Authority\n",
      "original 26 test 26\n",
      "Federal\n",
      "original 31 test 31\n",
      "Florida International University\n",
      "original 4 test 4\n",
      "Florida Memorial University\n",
      "original 4 test 4\n",
      "Habitat for Humanity\n",
      "original 73 test 73\n",
      "Johnson & Wales University\n",
      "original 11 test 11\n",
      "Larkin\n",
      "original 16 test 16\n",
      "Miami-Dade College\n",
      "original 56 test 56\n",
      "Miami-Dade County\n",
      "original 750 test 748\n",
      "Religious Organization\n",
      "original 869 test 842\n",
      "S FL Water Mgmt.\n",
      "original 18 test 18\n",
      "School Board\n",
      "original 146 test 146\n",
      "St. Thomas University\n",
      "original 7 test 7\n",
      "State of Florida\n",
      "original 220 test 220\n",
      "Town of Bay Harbor Islands\n",
      "original 6 test 6\n",
      "Town of Cutler Bay\n",
      "original 4 test 4\n",
      "Town of Golden Beach\n",
      "original 1 test 1\n",
      "Town of Medley\n",
      "original 13 test 13\n",
      "Town of Miami Lakes\n",
      "original 24 test 24\n",
      "Town of Surfside\n",
      "original 26 test 26\n",
      "Universal Truth Center for Better Living\n",
      "original 32 test 32\n",
      "University of Miami\n",
      "original 28 test 28\n",
      "Village of Biscayne Park\n",
      "original 5 test 5\n",
      "Village of Key Biscayne\n",
      "original 2 test 2\n",
      "Village of Miami Shores\n",
      "original 8 test 8\n",
      "Village of Pinecrest\n",
      "original 2 test 2\n",
      "Village of Virginia Gardens\n",
      "original 2 test 2\n"
     ]
    }
   ],
   "source": [
    "parcels['test_ownership'] = ''\n",
    "parcels['test_categories'] = ''\n",
    "        \n",
    "def create_condition(owner):\n",
    "    '''Create a conditional array to filter the parcels dataframe for an ownership\n",
    "    category using a formatted string from the OwnsershipMap file.'''\n",
    "    owner = owner.split('&&')\n",
    "    \n",
    "    if '!' not in owner[0]: # simple CONTAIN conditional on true_owner1\n",
    "        #print ('simple','|'+owner[0]+'|')\n",
    "        lb = parcels['true_owner1'].str.contains(owner[0])\n",
    "        \n",
    "    else: # AND NOT CONTAIN conditionals on true_owner1\n",
    "        owner1s = owner[0].split('!')\n",
    "        #print ('owner1','|'+owner1s[0]+'|')\n",
    "        lb = parcels['true_owner1'].str.contains(owner1s[0])\n",
    "        for owner1 in owner1s[1:]:\n",
    "            #print ('owner1 not','|'+owner1+'|')\n",
    "            lb = lb & ~parcels['true_owner1'].str.contains(owner1,na=False)\n",
    "        lb = (lb)       \n",
    "    \n",
    "    if len(owner) > 1:    \n",
    "        for owner2 in owner[1:]: # AND [NOT] CONTAIN conditionals on true_owner2\n",
    "            if '!' not in owner2:\n",
    "                #print ('owner2','|'+owner2+'|')\n",
    "                lb = lb & parcels['true_owner2'].str.contains(owner2)\n",
    "            else:\n",
    "                owner2s = owner2.split('!')\n",
    "                #print ('owner2','|'+owner2s[0]+'|')\n",
    "                lb = lb & parcels['true_owner2'].str.contains(owner2s[0],na=False)\n",
    "                for owner2 in owner2s[1:]:\n",
    "                    #print ('owner2 not','|'+owner2+'|')\n",
    "                    lb = lb & ~parcels['true_owner2'].str.contains(owner2,na=False)\n",
    "        lb = (lb)\n",
    "            \n",
    "    return lb\n",
    "\n",
    "# loop through all the categories in the OwnershipMap file : .iloc[29:30].\n",
    "for index, category in categories.iterrows():\n",
    "    true_owner = category['true_owner[123]'].split('|')\n",
    "    print(category['Ownership'])\n",
    "\n",
    "    # create the conditional pandas array to filter rows in the parcels\n",
    "    b = create_condition(true_owner[0])\n",
    "    for sub_owner in true_owner[1:]:\n",
    "        b = b | create_condition(sub_owner)\n",
    "        \n",
    "    # set the ownership and categories in the parcels with the conditional array\n",
    "    parcels.loc[b,'test_ownership'] = category['Ownership']\n",
    "    parcels.loc[b,'test_categories'] = category['Owner Categories']\n",
    "    \n",
    "    # give some feedback\n",
    "    print(\n",
    "        'original',len(parcels[parcels['Ownership']==category['Ownership']]['Ownership']),\n",
    "        'test',len(parcels[parcels['test_ownership']==category['Ownership']]['Ownership'])\n",
    "    )"
   ]
  },
  {
   "cell_type": "code",
   "execution_count": 7,
   "id": "2be99df1",
   "metadata": {},
   "outputs": [
    {
     "data": {
      "text/html": [
       "<div>\n",
       "<style scoped>\n",
       "    .dataframe tbody tr th:only-of-type {\n",
       "        vertical-align: middle;\n",
       "    }\n",
       "\n",
       "    .dataframe tbody tr th {\n",
       "        vertical-align: top;\n",
       "    }\n",
       "\n",
       "    .dataframe thead th {\n",
       "        text-align: right;\n",
       "    }\n",
       "</style>\n",
       "<table border=\"1\" class=\"dataframe\">\n",
       "  <thead>\n",
       "    <tr style=\"text-align: right;\">\n",
       "      <th></th>\n",
       "      <th>Ownership</th>\n",
       "      <th>true_owner1</th>\n",
       "      <th>true_owner2</th>\n",
       "    </tr>\n",
       "  </thead>\n",
       "  <tbody>\n",
       "    <tr>\n",
       "      <th>12</th>\n",
       "      <td>Religious Organization</td>\n",
       "      <td>MANFRED MEMORIAL FOUNDATION INC</td>\n",
       "      <td>% REVEREND GEORGE KELSEY</td>\n",
       "    </tr>\n",
       "    <tr>\n",
       "      <th>21</th>\n",
       "      <td>Religious Organization</td>\n",
       "      <td>MINISTERIO INTERNATIONAL EL REY</td>\n",
       "      <td>JESUS INC</td>\n",
       "    </tr>\n",
       "    <tr>\n",
       "      <th>26</th>\n",
       "      <td>Religious Organization</td>\n",
       "      <td>UNIVERSITY BAPTIST CHURCH OF</td>\n",
       "      <td>CORAL GABLES INC</td>\n",
       "    </tr>\n",
       "    <tr>\n",
       "      <th>27</th>\n",
       "      <td>Religious Organization</td>\n",
       "      <td>CAMP FREEDOM INC</td>\n",
       "      <td>NaN</td>\n",
       "    </tr>\n",
       "    <tr>\n",
       "      <th>60</th>\n",
       "      <td>Religious Organization</td>\n",
       "      <td>CANAAN CHURCH OF</td>\n",
       "      <td>HOMESTEAD INC</td>\n",
       "    </tr>\n",
       "    <tr>\n",
       "      <th>...</th>\n",
       "      <td>...</td>\n",
       "      <td>...</td>\n",
       "      <td>...</td>\n",
       "    </tr>\n",
       "    <tr>\n",
       "      <th>3022</th>\n",
       "      <td>Religious Organization</td>\n",
       "      <td>MT OLIVE MISSIONARY BAPT CHU OF</td>\n",
       "      <td>SOUTH MIAMI FL INC</td>\n",
       "    </tr>\n",
       "    <tr>\n",
       "      <th>3027</th>\n",
       "      <td>Religious Organization</td>\n",
       "      <td>GRTR NEW BETHEL BAPTIST CH INC</td>\n",
       "      <td>NaN</td>\n",
       "    </tr>\n",
       "    <tr>\n",
       "      <th>3028</th>\n",
       "      <td>Religious Organization</td>\n",
       "      <td>GRTR NEW BETHEL BAPTIST CH INC</td>\n",
       "      <td>NaN</td>\n",
       "    </tr>\n",
       "    <tr>\n",
       "      <th>3029</th>\n",
       "      <td>Religious Organization</td>\n",
       "      <td>GRTR NEW BETHEL BAPTIST CH INC</td>\n",
       "      <td>NaN</td>\n",
       "    </tr>\n",
       "    <tr>\n",
       "      <th>3030</th>\n",
       "      <td>Religious Organization</td>\n",
       "      <td>LIBERTY CITY CH OF CHRIST INC</td>\n",
       "      <td>NaN</td>\n",
       "    </tr>\n",
       "  </tbody>\n",
       "</table>\n",
       "<p>842 rows × 3 columns</p>\n",
       "</div>"
      ],
      "text/plain": [
       "                   Ownership                      true_owner1  \\\n",
       "12    Religious Organization  MANFRED MEMORIAL FOUNDATION INC   \n",
       "21    Religious Organization  MINISTERIO INTERNATIONAL EL REY   \n",
       "26    Religious Organization     UNIVERSITY BAPTIST CHURCH OF   \n",
       "27    Religious Organization                 CAMP FREEDOM INC   \n",
       "60    Religious Organization                 CANAAN CHURCH OF   \n",
       "...                      ...                              ...   \n",
       "3022  Religious Organization  MT OLIVE MISSIONARY BAPT CHU OF   \n",
       "3027  Religious Organization   GRTR NEW BETHEL BAPTIST CH INC   \n",
       "3028  Religious Organization   GRTR NEW BETHEL BAPTIST CH INC   \n",
       "3029  Religious Organization   GRTR NEW BETHEL BAPTIST CH INC   \n",
       "3030  Religious Organization    LIBERTY CITY CH OF CHRIST INC   \n",
       "\n",
       "                   true_owner2  \n",
       "12    % REVEREND GEORGE KELSEY  \n",
       "21                   JESUS INC  \n",
       "26            CORAL GABLES INC  \n",
       "27                         NaN  \n",
       "60               HOMESTEAD INC  \n",
       "...                        ...  \n",
       "3022        SOUTH MIAMI FL INC  \n",
       "3027                       NaN  \n",
       "3028                       NaN  \n",
       "3029                       NaN  \n",
       "3030                       NaN  \n",
       "\n",
       "[842 rows x 3 columns]"
      ]
     },
     "execution_count": 7,
     "metadata": {},
     "output_type": "execute_result"
    }
   ],
   "source": [
    "parcels[b][['Ownership','true_owner1','true_owner2']]"
   ]
  },
  {
   "cell_type": "code",
   "execution_count": 8,
   "id": "992d787c",
   "metadata": {},
   "outputs": [],
   "source": [
    "sub = parcels[b][['ogc_fid','Ownership','true_owner1','true_owner2','dor_code_cur']]"
   ]
  },
  {
   "cell_type": "code",
   "execution_count": 9,
   "id": "6cc327c3",
   "metadata": {},
   "outputs": [
    {
     "data": {
      "text/plain": [
       "842"
      ]
     },
     "execution_count": 9,
     "metadata": {},
     "output_type": "execute_result"
    }
   ],
   "source": [
    "len(sub)"
   ]
  },
  {
   "cell_type": "code",
   "execution_count": 10,
   "id": "e4a1634b",
   "metadata": {},
   "outputs": [
    {
     "data": {
      "text/html": [
       "<div>\n",
       "<style scoped>\n",
       "    .dataframe tbody tr th:only-of-type {\n",
       "        vertical-align: middle;\n",
       "    }\n",
       "\n",
       "    .dataframe tbody tr th {\n",
       "        vertical-align: top;\n",
       "    }\n",
       "\n",
       "    .dataframe thead th {\n",
       "        text-align: right;\n",
       "    }\n",
       "</style>\n",
       "<table border=\"1\" class=\"dataframe\">\n",
       "  <thead>\n",
       "    <tr style=\"text-align: right;\">\n",
       "      <th></th>\n",
       "      <th>ogc_fid</th>\n",
       "      <th>Ownership</th>\n",
       "      <th>true_owner1</th>\n",
       "      <th>true_owner2</th>\n",
       "      <th>dor_code_cur</th>\n",
       "    </tr>\n",
       "  </thead>\n",
       "  <tbody>\n",
       "  </tbody>\n",
       "</table>\n",
       "</div>"
      ],
      "text/plain": [
       "Empty DataFrame\n",
       "Columns: [ogc_fid, Ownership, true_owner1, true_owner2, dor_code_cur]\n",
       "Index: []"
      ]
     },
     "execution_count": 10,
     "metadata": {},
     "output_type": "execute_result"
    }
   ],
   "source": [
    "sub[sub['Ownership']!='Religious Organization']"
   ]
  },
  {
   "cell_type": "code",
   "execution_count": 11,
   "id": "213062bf",
   "metadata": {},
   "outputs": [],
   "source": [
    "org = parcels[parcels['Ownership']=='Religious Organization']"
   ]
  },
  {
   "cell_type": "code",
   "execution_count": 12,
   "id": "c8f5f591",
   "metadata": {},
   "outputs": [
    {
     "name": "stdout",
     "output_type": "stream",
     "text": [
      "7144 170869 CPC OF WWM USA FOUNDATION INC nan\n",
      "9981 375622 INTERNATIONAL CENTER OF PRAISE nan\n",
      "7144 527 P O M INC nan\n",
      "81 251276 PABLO ALVAREZ WALKIRIA ALVAREZ\n",
      "2865 141139 SOUTH EAST DISTRICT FLORIDA ANNUAL CONFERENCE\n",
      "1066 229512 RICHEMOND LAMBERT &W MARIE nan\n",
      "1081 162004 TRINITY FAITH DEL MIN CENTER INC nan\n",
      "2865 524028 ANTIOCH MISS BAPT OF CAROL CITY nan\n",
      "66 239387 HILLEL COMMUNITY DAY SCHOOL INC nan\n",
      "7144 182351 THE SHUL OF BAL HARBOUR INC nan\n",
      "2865 112441 DOM INC nan\n",
      "2865 117877 EDWARD A MCCARTHY nan\n",
      "81 189510 THE SANCTUARY IN EL PORTAL LP C/O SETH GADINSKY\n",
      "2865 125456 RINCON DE SAN LAZARO nan\n",
      "7081 4587 LOUIS M ALEXIS & VEONEL GUERRIER & KELLY LEVASSEUR (TRS)\n",
      "7081 4586 LOUIS M ALEXIS & VEONEL GUERRIER & KELLY LEVASSEUR (TRS)\n",
      "81 269200 S EASTERN CONF OF SDA ASSOCIATION nan\n",
      "7144 7988 MARKS SUBDIVISION APARTMENTS LLC nan\n",
      "81 3655 TGCG HOLDINGS LLC nan\n",
      "81 7046 PRAYER & PRAISE INTERNATIONAL nan\n",
      "2865 143153 NOAH'S ARK PRAYER ROOM INC nan\n",
      "81 156734 ERSHAD CENTER INC nan\n",
      "2865 15647 JOHN C FAVALORA nan\n",
      "7144 61925 CG 3415 GRAND LLC nan\n",
      "1081 255044 MISS EVAN CTR HOL CH INC nan\n",
      "1081 15666 EDWARD A MCCARTHY nan\n",
      "1081 263930 ST JAMES A M E OF MIAMI INC nan\n"
     ]
    }
   ],
   "source": [
    "for index, line in org.iterrows():\n",
    "    if line['ogc_fid'] not in sub['ogc_fid'].values:\n",
    "        print (line['dor_code_cur'],line['ogc_fid'],line['true_owner1'],line['true_owner2'])"
   ]
  },
  {
   "cell_type": "code",
   "execution_count": null,
   "id": "487ac6c9",
   "metadata": {},
   "outputs": [],
   "source": []
  }
 ],
 "metadata": {
  "kernelspec": {
   "display_name": "base",
   "language": "python",
   "name": "base"
  },
  "language_info": {
   "codemirror_mode": {
    "name": "ipython",
    "version": 3
   },
   "file_extension": ".py",
   "mimetype": "text/x-python",
   "name": "python",
   "nbconvert_exporter": "python",
   "pygments_lexer": "ipython3",
   "version": "3.6.10"
  }
 },
 "nbformat": 4,
 "nbformat_minor": 5
}
