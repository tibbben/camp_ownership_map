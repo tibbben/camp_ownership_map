{
 "cells": [
  {
   "cell_type": "markdown",
   "id": "8eb84820",
   "metadata": {},
   "source": [
    "## Ownership mapping for LAND/CAMP"
   ]
  },
  {
   "cell_type": "code",
   "execution_count": null,
   "id": "2c5b3bf4",
   "metadata": {},
   "outputs": [],
   "source": [
    "import pandas as pd"
   ]
  },
  {
   "cell_type": "code",
   "execution_count": null,
   "id": "0d49f6e3",
   "metadata": {},
   "outputs": [],
   "source": [
    "# load test parcel data and category map\n",
    "parcels = pd.read_csv('LAND_CustomParcels_Final_2021_Tim.csv')\n",
    "categories = pd.read_csv('OwnershipMap.csv')"
   ]
  },
  {
   "cell_type": "code",
   "execution_count": null,
   "id": "7bd4b053",
   "metadata": {},
   "outputs": [],
   "source": [
    "# add new columns to fill in\n",
    "parcels['test_ownership'] = ''\n",
    "parcels['test_categories'] = ''"
   ]
  },
  {
   "cell_type": "code",
   "execution_count": null,
   "id": "549e3f41",
   "metadata": {},
   "outputs": [],
   "source": [
    "# show headers (only for show)\n",
    "list(parcels)"
   ]
  },
  {
   "cell_type": "code",
   "execution_count": null,
   "id": "24fb440b",
   "metadata": {},
   "outputs": [],
   "source": [
    "# show list of query strings for Religious Organizations (only for show)\n",
    "for index, category in categories.iloc[29:30].iterrows():\n",
    "    true_owner = category['true_owner[123]'].split('|')\n",
    "    print(true_owner)"
   ]
  },
  {
   "cell_type": "code",
   "execution_count": null,
   "id": "55d232db",
   "metadata": {},
   "outputs": [],
   "source": [
    "# example copmlex querty as vector (only for show)\n",
    "b = ((parcels['true_owner1'].str.contains('FLORIDA CITY') & \\\n",
    "    ~parcels['true_owner1'].str.contains('AGENCY',na=False) & \\\n",
    "    ~parcels['true_owner1'].str.contains('COMMUNITY',na=False) & \\\n",
    "    ~parcels['true_owner1'].str.contains('AGCY',na=False)) & \\\n",
    "    ~parcels['true_owner2'].str.contains('REDEVELOPMENT',na=False) & \\\n",
    "    ~parcels['true_owner2'].str.contains('REDV',na=False))"
   ]
  },
  {
   "cell_type": "markdown",
   "id": "501fb5ca",
   "metadata": {},
   "source": [
    "### Stand alone script for the whole process"
   ]
  },
  {
   "cell_type": "code",
   "execution_count": null,
   "id": "1b21e532",
   "metadata": {},
   "outputs": [],
   "source": [
    "import pandas as pd\n",
    "\n",
    "# load test parcel data and category map\n",
    "parcels = pd.read_csv('LAND_CustomParcels_Final_2021_Tim.csv')\n",
    "categories = pd.read_csv('OwnershipMap.csv')\n",
    "\n",
    "# add columns for new categories\n",
    "parcels['test_ownership'] = ''\n",
    "parcels['test_categories'] = ''\n",
    "        \n",
    "def create_condition(owner):\n",
    "    '''Create a conditional array to filter the parcels dataframe for an ownership\n",
    "    category using a formatted string from the OwnsershipMap file.'''\n",
    "    owner = owner.split('&&')\n",
    "    \n",
    "    if '!' not in owner[0]: # simple CONTAIN conditional on true_owner1\n",
    "        #print ('simple','|'+owner[0]+'|')\n",
    "        lb = parcels['true_owner1'].str.contains(owner[0])\n",
    "        \n",
    "    else: # AND NOT CONTAIN conditionals on true_owner1\n",
    "        owner1s = owner[0].split('!')\n",
    "        #print ('owner1','|'+owner1s[0]+'|')\n",
    "        lb = parcels['true_owner1'].str.contains(owner1s[0])\n",
    "        for owner1 in owner1s[1:]:\n",
    "            #print ('owner1 not','|'+owner1+'|')\n",
    "            lb = lb & ~parcels['true_owner1'].str.contains(owner1,na=False)\n",
    "        lb = (lb)       \n",
    "    \n",
    "    if len(owner) > 1:    \n",
    "        for owner2 in owner[1:]: # AND [NOT] CONTAIN conditionals on true_owner2\n",
    "            if '!' not in owner2:\n",
    "                #print ('owner2','|'+owner2+'|')\n",
    "                lb = lb & parcels['true_owner2'].str.contains(owner2)\n",
    "            else:\n",
    "                owner2s = owner2.split('!')\n",
    "                #print ('owner2','|'+owner2s[0]+'|')\n",
    "                lb = lb & parcels['true_owner2'].str.contains(owner2s[0],na=False)\n",
    "                for owner2 in owner2s[1:]:\n",
    "                    #print ('owner2 not','|'+owner2+'|')\n",
    "                    lb = lb & ~parcels['true_owner2'].str.contains(owner2,na=False)\n",
    "        lb = (lb)\n",
    "            \n",
    "    return lb\n",
    "\n",
    "# loop through all the categories in the OwnershipMap file : .iloc[29:30].\n",
    "for index, category in categories.iterrows():\n",
    "    true_owner = category['true_owner[123]'].split('|')\n",
    "    print(category['Ownership'])\n",
    "\n",
    "    # create the conditional pandas array to filter rows in the parcels\n",
    "    b = create_condition(true_owner[0])\n",
    "    for sub_owner in true_owner[1:]:\n",
    "        b = b | create_condition(sub_owner)\n",
    "        \n",
    "    # set the ownership and categories in the parcels with the conditional array\n",
    "    parcels.loc[b,'test_ownership'] = category['Ownership']\n",
    "    parcels.loc[b,'test_categories'] = category['Owner Categories']\n",
    "    \n",
    "    # give some feedback\n",
    "    print(\n",
    "        'original',len(parcels[parcels['Ownership']==category['Ownership']]['Ownership']),\n",
    "        'test',len(parcels[parcels['test_ownership']==category['Ownership']]['Ownership'])\n",
    "    )"
   ]
  },
  {
   "cell_type": "markdown",
   "id": "d534ced5",
   "metadata": {},
   "source": [
    "### Experiments to do row by row comparison"
   ]
  },
  {
   "cell_type": "code",
   "execution_count": null,
   "id": "2be99df1",
   "metadata": {},
   "outputs": [],
   "source": [
    "parcels[b][['Ownership','true_owner1','true_owner2']]"
   ]
  },
  {
   "cell_type": "code",
   "execution_count": null,
   "id": "992d787c",
   "metadata": {},
   "outputs": [],
   "source": [
    "sub = parcels[b][['ogc_fid','Ownership','true_owner1','true_owner2','dor_code_cur']]"
   ]
  },
  {
   "cell_type": "code",
   "execution_count": null,
   "id": "6cc327c3",
   "metadata": {},
   "outputs": [],
   "source": [
    "len(sub)"
   ]
  },
  {
   "cell_type": "code",
   "execution_count": null,
   "id": "e4a1634b",
   "metadata": {},
   "outputs": [],
   "source": [
    "sub[sub['Ownership']!='Religious Organization']"
   ]
  },
  {
   "cell_type": "code",
   "execution_count": null,
   "id": "213062bf",
   "metadata": {},
   "outputs": [],
   "source": [
    "org = parcels[parcels['Ownership']=='Religious Organization']"
   ]
  },
  {
   "cell_type": "code",
   "execution_count": null,
   "id": "c8f5f591",
   "metadata": {},
   "outputs": [],
   "source": [
    "for index, line in org.iterrows():\n",
    "    if line['ogc_fid'] not in sub['ogc_fid'].values:\n",
    "        print (line['dor_code_cur'],line['ogc_fid'],line['true_owner1'],line['true_owner2'])"
   ]
  },
  {
   "cell_type": "code",
   "execution_count": null,
   "id": "487ac6c9",
   "metadata": {},
   "outputs": [],
   "source": []
  }
 ],
 "metadata": {
  "kernelspec": {
   "display_name": "base",
   "language": "python",
   "name": "base"
  },
  "language_info": {
   "codemirror_mode": {
    "name": "ipython",
    "version": 3
   },
   "file_extension": ".py",
   "mimetype": "text/x-python",
   "name": "python",
   "nbconvert_exporter": "python",
   "pygments_lexer": "ipython3",
   "version": "3.6.10"
  }
 },
 "nbformat": 4,
 "nbformat_minor": 5
}
