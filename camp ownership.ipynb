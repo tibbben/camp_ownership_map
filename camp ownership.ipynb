{
 "cells": [
  {
   "cell_type": "markdown",
   "metadata": {},
   "source": [
    "## Ownership mapping for LAND/CAMP"
   ]
  },
  {
   "cell_type": "code",
   "execution_count": null,
   "metadata": {},
   "outputs": [],
   "source": [
    "import pandas as pd"
   ]
  },
  {
   "cell_type": "code",
   "execution_count": null,
   "metadata": {},
   "outputs": [],
   "source": [
    "# load test parcel data and category map\n",
    "parcels = pd.read_csv('LAND_CustomParcels_Final_2021_Tim.csv')\n",
    "categories = pd.read_csv('OwnershipMap.csv')"
   ]
  },
  {
   "cell_type": "code",
   "execution_count": null,
   "metadata": {},
   "outputs": [],
   "source": [
    "# add new columns to fill in\n",
    "parcels['camp_ownership'] = ''\n",
    "parcels['camp_categories'] = ''"
   ]
  },
  {
   "cell_type": "code",
   "execution_count": null,
   "metadata": {},
   "outputs": [],
   "source": [
    "# show headers (only for show)\n",
    "list(parcels)"
   ]
  },
  {
   "cell_type": "code",
   "execution_count": null,
   "metadata": {},
   "outputs": [],
   "source": [
    "categories"
   ]
  },
  {
   "cell_type": "code",
   "execution_count": null,
   "metadata": {},
   "outputs": [],
   "source": [
    "# show list of query strings for Religious Organizations (only for show)\n",
    "for index, category in categories.iloc[29:30].iterrows():\n",
    "    true_owner = category['true_owner[123]'].split('|')\n",
    "    print(true_owner)"
   ]
  },
  {
   "cell_type": "code",
   "execution_count": null,
   "metadata": {},
   "outputs": [],
   "source": [
    "# example copmlex querty as vector (only for show)\n",
    "b = ((parcels['true_owner1'].str.contains('FLORIDA CITY') & \\\n",
    "    ~parcels['true_owner1'].str.contains('AGENCY',na=False) & \\\n",
    "    ~parcels['true_owner1'].str.contains('COMMUNITY',na=False) & \\\n",
    "    ~parcels['true_owner1'].str.contains('AGCY',na=False)) & \\\n",
    "    ~parcels['true_owner2'].str.contains('REDEVELOPMENT',na=False) & \\\n",
    "    ~parcels['true_owner2'].str.contains('REDV',na=False))"
   ]
  },
  {
   "cell_type": "markdown",
   "metadata": {},
   "source": [
    "### Stand alone script for the whole process"
   ]
  },
  {
   "cell_type": "code",
   "execution_count": null,
   "metadata": {},
   "outputs": [],
   "source": [
    "import pandas as pd\n",
    "import sys\n",
    "import json\n",
    "        \n",
    "def create_condition(owner, parcels):\n",
    "    '''Create a conditional array to filter the parcels dataframe for an ownership\n",
    "    category using a formatted string from the OwnsershipMap file.'''\n",
    "    \n",
    "    owner = owner.split('&&')\n",
    "    \n",
    "    if '!' not in owner[0]: # simple CONTAIN conditional on true_owner1\n",
    "        lb = parcels['true_owner1'].str.contains(owner[0])\n",
    "        \n",
    "    else: # AND NOT CONTAIN conditionals on true_owner1\n",
    "        owner1s = owner[0].split('!')\n",
    "        lb = parcels['true_owner1'].str.contains(owner1s[0])\n",
    "        for owner1 in owner1s[1:]:\n",
    "            lb = lb & ~parcels['true_owner1'].str.contains(owner1,na=False)\n",
    "        lb = (lb)       \n",
    "    \n",
    "    if len(owner) > 1:    \n",
    "        for owner2 in owner[1:]: # AND [NOT] CONTAIN conditionals on true_owner2\n",
    "            if '!' not in owner2:\n",
    "                lb = lb & parcels['true_owner2'].str.contains(owner2)\n",
    "            else:\n",
    "                owner2s = owner2.split('!')\n",
    "                lb = lb & parcels['true_owner2'].str.contains(owner2s[0],na=False)\n",
    "                for owner2 in owner2s[1:]:\n",
    "                    lb = lb & ~parcels['true_owner2'].str.contains(owner2,na=False)\n",
    "        lb = (lb)\n",
    "            \n",
    "    return lb.fillna(False)\n",
    "\n",
    "def assign_ownership(parcels,categories):\n",
    "    '''Assign ownership in the categories to parcels.'''\n",
    "    \n",
    "    def filter_and_assign(category, parcels):\n",
    "        '''Filter on one ownership and assign the ownership category.'''\n",
    "        \n",
    "        true_owner = category['true_owner[123]'].split('|')\n",
    "        # print(category['Ownership'])\n",
    "\n",
    "        # create the conditional pandas array to filter rows in the parcels\n",
    "        b = create_condition(true_owner[0], parcels)\n",
    "        for sub_owner in true_owner[1:]:\n",
    "            b = b | create_condition(sub_owner, parcels)\n",
    "\n",
    "        # set the ownership and categories in the parcels with the conditional array\n",
    "        parcels.loc[b,'camp_ownership'] = category['Ownership']\n",
    "        parcels.loc[b,'camp_categories'] = category['Owner Categories']\n",
    "\n",
    "        return category['Ownership']\n",
    "    \n",
    "    # add columns for new categories\n",
    "    parcels['camp_ownership'] = ''\n",
    "    parcels['camp_categories'] = ''\n",
    "    \n",
    "    return categories.apply(filter_and_assign, parcels=parcels, axis=1)\n",
    "\n",
    "def main():\n",
    "    '''Read the parcel and categegory files and process.'''\n",
    "\n",
    "    if len(sys.argv) == 2:\n",
    "        parcel_file = sys.argv[1]\n",
    "    else: # default for testing\n",
    "        parcel_file = \"LAND_CustomParcels_Final_2021_Tim.csv\"\n",
    "\n",
    "    # load test parcel data and category map\n",
    "    path = (\"/\").join(parcel_file.split(\"/\")[:-1])\n",
    "    file = parcel_file.split(\"/\")[-1].split(\".\")[0]\n",
    "    ext = parcel_file.split(\"/\")[-1].split(\".\")[1]\n",
    "    if ext == \"json\":\n",
    "        with open(parcel_file, 'r') as f:\n",
    "            data = json.load(f)\n",
    "        parcels = pd.json_normalize(data['features'])\n",
    "        rename = {}\n",
    "        for col in list(parcels):\n",
    "            if 'properties' in col: rename[col] = col.lower()[11:]\n",
    "        parcels = parcels.rename(columns=rename)\n",
    "    elif ext == \"csv\":\n",
    "        parcels = pd.read_csv(parcel_file, low_memory=False)\n",
    "    categories = pd.read_csv('OwnershipMap.csv')\n",
    "\n",
    "    owner_filters = assign_ownership(parcels,categories)\n",
    "    \n",
    "    # give feedback\n",
    "    #for owner_filter in owner_filters:\n",
    "    #    print((\n",
    "    #        f\"{owner_filter} \"\n",
    "    #        f\"original {len(parcels[parcels['Ownership']==owner_filter])} \"\n",
    "    #        f\"test {len(parcels[parcels['test_ownership']==owner_filter])}\"\n",
    "    #    ))\n",
    "\n",
    "    if ext == \"json\":\n",
    "\n",
    "        def restructure(row):\n",
    "            properties = {}\n",
    "            for col in rename:\n",
    "                if 'properties' in col:\n",
    "                    prop = rename[col].upper() if rename[col] not in ['shape_area','shape_length'] else rename[col]\n",
    "                    properties[prop] = row[rename[col]]\n",
    "            properties['camp_ownership'] = row['camp_ownership']\n",
    "            properties['camp_categories'] = row['camp_categories']\n",
    "            return {\n",
    "                \"type\": \"Feature\",\n",
    "                \"properties\": properties,\n",
    "                \"geometry\": {\"type\": row['geometry.type'], \"coordinates\": row['geometry.coordinates']}\n",
    "            }\n",
    "\n",
    "        data['features'] = parcels.apply(restructure, axis=1).tolist()\n",
    "        with open(f\"../download/mdc_parcels_camp_ownership.json\", \"w\") as json_file:\n",
    "            json.dump(data, json_file)\n",
    "\n",
    "    elif ext == \"csv\":\n",
    "        parcels.to_csv(f\"{path}\\\\ownership_{file}.csv\", index=False)\n",
    "\n",
    "if __name__ == \"__main__\":\n",
    "    main()"
   ]
  },
  {
   "cell_type": "markdown",
   "metadata": {},
   "source": [
    "### Experiments to do row by row comparison"
   ]
  },
  {
   "cell_type": "code",
   "execution_count": null,
   "metadata": {},
   "outputs": [],
   "source": [
    "# set ownership\n",
    "ownership = 'Larkin'\n",
    "category = categories[categories['Ownership']==ownership]\n",
    "true_owner = category['true_owner[123]'].values[0].split('|')\n",
    "\n",
    "# create the conditional pandas array to filter rows in the parcels\n",
    "b = create_condition(true_owner[0])\n",
    "for sub_owner in true_owner[1:]:\n",
    "    b = b | create_condition(sub_owner)"
   ]
  },
  {
   "cell_type": "code",
   "execution_count": null,
   "metadata": {},
   "outputs": [],
   "source": [
    "parcels[b][['Ownership','true_owner1','true_owner2']]"
   ]
  },
  {
   "cell_type": "code",
   "execution_count": null,
   "metadata": {},
   "outputs": [],
   "source": [
    "sub = parcels[b][['ogc_fid','Folio','Ownership','test_ownership','true_owner1','true_owner2','dor_code_cur']]"
   ]
  },
  {
   "cell_type": "code",
   "execution_count": null,
   "metadata": {},
   "outputs": [],
   "source": [
    "len(sub)"
   ]
  },
  {
   "cell_type": "code",
   "execution_count": null,
   "metadata": {},
   "outputs": [],
   "source": [
    "sub[sub['Ownership']=='City of Aventura']"
   ]
  },
  {
   "cell_type": "code",
   "execution_count": null,
   "metadata": {},
   "outputs": [],
   "source": [
    "org = parcels[parcels['test_ownership']=='Baptist Health']"
   ]
  },
  {
   "cell_type": "code",
   "execution_count": null,
   "metadata": {},
   "outputs": [],
   "source": [
    "for index, line in org.iterrows():\n",
    "    if line['ogc_fid'] not in sub['ogc_fid'].values:\n",
    "        print (line['dor_code_cur'],line['ogc_fid'],line['Ownership'],line['test_ownership'],line['true_owner1'],line['true_owner2'])"
   ]
  }
 ],
 "metadata": {
  "kernelspec": {
   "display_name": "gdscpackage",
   "language": "python",
   "name": "gdscpackage"
  },
  "language_info": {
   "codemirror_mode": {
    "name": "ipython",
    "version": 3
   },
   "file_extension": ".py",
   "mimetype": "text/x-python",
   "name": "python",
   "nbconvert_exporter": "python",
   "pygments_lexer": "ipython3",
   "version": "3.9.23"
  }
 },
 "nbformat": 4,
 "nbformat_minor": 5
}
